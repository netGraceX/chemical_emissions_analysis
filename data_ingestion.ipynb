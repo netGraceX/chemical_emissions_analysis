{
 "cells": [
  {
   "cell_type": "markdown",
   "metadata": {},
   "source": [
    "# DATA INGESTION\n"
   ]
  },
  {
   "cell_type": "code",
   "execution_count": 30,
   "metadata": {},
   "outputs": [],
   "source": [
    "import os\n",
    "import glob\n",
    "import psycopg2"
   ]
  },
  {
   "cell_type": "markdown",
   "metadata": {},
   "source": [
    "After establishing the connection to the DB, this function explores the input folder (*dir_path*) and inserts all _.csv_ files into the input table (*table_name*)."
   ]
  },
  {
   "cell_type": "code",
   "execution_count": 8,
   "metadata": {},
   "outputs": [],
   "source": [
    "def data_ingestion(dir_path, table_name, db_name, username, host, db_password, db_port): \n",
    "    conn = psycopg2.connect(dbname=db_name, user=username, host=host, password=db_password, port=db_port)\n",
    "    cur = conn.cursor()\n",
    "    os.chdir(dir_path)\n",
    "    file_names = [i for i in glob.glob('*.{}'.format('csv'))]      \n",
    "    for f in file_names:                \n",
    "        file = open(f, 'r')        \n",
    "        next(file)                \n",
    "        cur.copy_from(file, table_name, sep=',', null='')            \n",
    "    cur.close()\n",
    "    conn.commit()"
   ]
  },
  {
   "cell_type": "markdown",
   "metadata": {},
   "source": [
    "After establishing the connection to the DB, this function inserts a specific input file (*file_name*) into the input table (*table_name*)."
   ]
  },
  {
   "cell_type": "code",
   "execution_count": 37,
   "metadata": {},
   "outputs": [],
   "source": [
    "def single_file_ingestion(path, file_name, table_name, db_name, username, host, db_password, db_port):\n",
    "    conn = psycopg2.connect(dbname=db_name, user=username, host=host, password=db_password, port=db_port)\n",
    "    cur = conn.cursor()\n",
    "    file = open(path+file_name, 'r')        \n",
    "    next(file)                \n",
    "    cur.copy_from(file, table_name, sep=',', null='')            \n",
    "    cur.close()\n",
    "    conn.commit()"
   ]
  }
 ],
 "metadata": {
  "kernelspec": {
   "display_name": "Python 3 (ipykernel)",
   "language": "python",
   "name": "python3"
  },
  "language_info": {
   "codemirror_mode": {
    "name": "ipython",
    "version": 3
   },
   "file_extension": ".py",
   "mimetype": "text/x-python",
   "name": "python",
   "nbconvert_exporter": "python",
   "pygments_lexer": "ipython3",
   "version": "3.9.13"
  }
 },
 "nbformat": 4,
 "nbformat_minor": 2
}
